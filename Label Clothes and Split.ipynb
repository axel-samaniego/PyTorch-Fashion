{
 "cells": [
  {
   "cell_type": "code",
   "execution_count": 1,
   "metadata": {},
   "outputs": [],
   "source": [
    "import os \n",
    "import pandas as pd\n",
    "from os import path"
   ]
  },
  {
   "cell_type": "code",
   "execution_count": 2,
   "metadata": {},
   "outputs": [],
   "source": [
    "# Label images and save to CSV\n",
    "cats = ['dress', 'pants', 'shirt', 'shoes', 'shorts']\n",
    "cat_dict = {'dress':0,'pants':1,'shirt':2,'shoes':3,'shorts':4}\n",
    "dataset = pd.DataFrame()\n",
    "i = 0\n",
    "for cat in cats:\n",
    "    pics = []\n",
    "    file_path = \"D:\\\\misc\\\\Clothing\\\\\"+cat\n",
    "    pics = os.listdir(file_path)\n",
    "    for pic in pics:\n",
    "        dataset.loc[i,'filename'] = pic\n",
    "        dataset.loc[i,'label'] = cat_dict[cat]\n",
    "        i+=1\n",
    "            \n",
    "dataset.to_csv('D:\\\\misc\\\\Clothing\\\\labeled.csv')"
   ]
  },
  {
   "cell_type": "code",
   "execution_count": null,
   "metadata": {},
   "outputs": [],
   "source": []
  },
  {
   "cell_type": "code",
   "execution_count": null,
   "metadata": {},
   "outputs": [],
   "source": []
  }
 ],
 "metadata": {
  "kernelspec": {
   "display_name": "Python 3",
   "language": "python",
   "name": "python3"
  },
  "language_info": {
   "codemirror_mode": {
    "name": "ipython",
    "version": 3
   },
   "file_extension": ".py",
   "mimetype": "text/x-python",
   "name": "python",
   "nbconvert_exporter": "python",
   "pygments_lexer": "ipython3",
   "version": "3.7.6"
  }
 },
 "nbformat": 4,
 "nbformat_minor": 4
}
